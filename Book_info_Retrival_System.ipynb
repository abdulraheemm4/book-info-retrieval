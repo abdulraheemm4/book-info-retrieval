{
 "cells": [
  {
   "cell_type": "markdown",
   "id": "e3a08326-1199-4cc2-802d-61250593f3a7",
   "metadata": {},
   "source": [
    "# Project Overview\n",
    "\n",
    "## Introduction\n",
    "\n",
    "### Project Title :   Book Information Retrival System\n",
    "\n",
    "### Purpose:\n",
    "    The purpose of this project i sto demonstrate the setup and interaction between different agents using the 'Autogen' framework and an external API(OpenLibrary). The project showcase how to process user input, retrieve book information, and display relevant details such as the first and most recent publishing year and authors.\n",
    "\n"
   ]
  },
  {
   "cell_type": "markdown",
   "id": "e00d717b-2896-418e-9a17-d390271b9f93",
   "metadata": {},
   "source": [
    "### Importing Libraries and Setup"
   ]
  },
  {
   "cell_type": "code",
   "execution_count": 35,
   "id": "41b27614-b73d-434d-a677-9719c536dc25",
   "metadata": {},
   "outputs": [],
   "source": [
    "from transformers import AutoModelForSeq2SeqLM, AutoTokenizer\n",
    "from huggingface_hub import hf_hub_download\n",
    "import os\n",
    "import requests\n",
    "import autogen\n",
    "\n"
   ]
  },
  {
   "cell_type": "markdown",
   "id": "73806a11-8b2c-4288-ad41-c2f18b83cf46",
   "metadata": {},
   "source": [
    "## Initialized Autogen with Public API key: On this project using Public APIs to prevent unathorized access and misuse"
   ]
  },
  {
   "cell_type": "markdown",
   "id": "2626cb7c-e3db-4846-90cd-a8e970f985a6",
   "metadata": {},
   "source": [
    "## Setting up Hugging Face Model:"
   ]
  },
  {
   "cell_type": "code",
   "execution_count": 36,
   "id": "5e676fc6-e178-4efb-9567-580693c1a5b7",
   "metadata": {},
   "outputs": [],
   "source": [
    "def setup_model():\n",
    "    model_name=\"facebook/bart-large-cnn\"\n",
    "    tokenizer= AutoTokenizer.from_pretrained(model_name)\n",
    "    model= AutoModelForSeq2SeqLM.from_pretrained(model_name)\n",
    "    return tokenizer, model\n",
    "    \n",
    "tokenizer, model= setup_model()"
   ]
  },
  {
   "cell_type": "markdown",
   "id": "470320a4-fc19-4eaa-9e22-630a1e51477d",
   "metadata": {},
   "source": [
    "## Defining UserProxy Agent:"
   ]
  },
  {
   "cell_type": "code",
   "execution_count": 27,
   "id": "46f4d415-8e3b-4c55-96d5-e82073bf841a",
   "metadata": {},
   "outputs": [],
   "source": [
    "def userproxy_agent(user_input):\n",
    "    return f\"Userproxy received: {user_input}\""
   ]
  },
  {
   "cell_type": "markdown",
   "id": "fa7279a7-431d-4d86-8919-ad4a2cee1eb0",
   "metadata": {},
   "source": [
    "## Defining Assistant Agent"
   ]
  },
  {
   "cell_type": "code",
   "execution_count": 28,
   "id": "1f1c4d8a-cf36-472d-a2db-d01f1bdc5c6b",
   "metadata": {},
   "outputs": [],
   "source": [
    "def assistant_agent(user_input):\n",
    "    book_title= user_input.replace(\"Tell me about \", \"\").strip()\n",
    "    url = f\"http://openlibrary.org/search.json?title={book_title}\"\n",
    "    response= requests.get(url)\n",
    "    data= response.json()\n",
    "\n",
    "    if data['numFound'] > 0:\n",
    "        book = data['docs'][0]\n",
    "        title= book.get('title','N/A')\n",
    "        authors = \", \".join(book.get('author_name',['N/A']))\n",
    "        first_publish_year= book.get('first_publish_year', 'N/A')\n",
    "        publish_years= book.get('publish_year', [])\n",
    "        recent_year= max([int(year) for year in publish_years], default= 'N/A')\n",
    "        recent_author= book.get('author_name', ['N/A'])[-1]\n",
    "        response = (\n",
    "            f\"Title: {title}\\n\"\n",
    "            f\"Authors: {authors}\\n\"\n",
    "            f\"First Publish Year: {first_publish_year}\\n\"\n",
    "            f\"Most Recent Publish Year: {recent_year}\\n\"\n",
    "            f\"Most Recent Auther: {recent_author}\"\n",
    "        )\n",
    "    else:\n",
    "        response= \"Sorry, I couldn't find insformation about that book\"\n",
    "    return response\n",
    "        \n"
   ]
  },
  {
   "cell_type": "markdown",
   "id": "e4531490-363a-4a3c-a4ed-5c5b38ef3ebd",
   "metadata": {},
   "source": [
    "## Interactive User Input"
   ]
  },
  {
   "cell_type": "code",
   "execution_count": 29,
   "id": "fd9bbec4-c2d5-4693-ae92-6068598855c0",
   "metadata": {},
   "outputs": [
    {
     "name": "stdin",
     "output_type": "stream",
     "text": [
      "Please enter a query (e.g., 'Not in Love'):  not in love\n"
     ]
    },
    {
     "name": "stdout",
     "output_type": "stream",
     "text": [
      "Userproxy received: not in love\n",
      "Assistant Response:\n",
      "Title: Andy Shane is NOT in love\n",
      "Authors: Jennifer Jacobson, Abby Carter\n",
      "First Publish Year: 2008\n",
      "Most Recent Publish Year: 2016\n",
      "Most Recent Auther: Abby Carter\n"
     ]
    }
   ],
   "source": [
    "user_input = input(\"Please enter a query (e.g., 'Not in Love'): \")\n",
    "print(userproxy_agent(user_input))\n",
    "response= assistant_agent(user_input)\n",
    "print(f\"Assistant Response:\\n{response}\")"
   ]
  },
  {
   "cell_type": "markdown",
   "id": "1f8a3187-cb7e-4b5a-a6d6-f27913959f0f",
   "metadata": {},
   "source": [
    "## Conclusion\n",
    "This project demonstrates the setup and functionality of integrated Microsoft Autogen and Hugging Face Transformation to create an interactive book infromation retrieval system. The code covers:\n",
    "    \n",
    "- Loading API key: Simplifies the setup by including the API key directly in th e code (for secuirty, consideration can create a '.env' file and the 'python-dotenv library in production to ensecure the API key getting public)\n",
    "    \n",
    "- Setting up Models and Agents: Shows how to initialize and use Hugging Face Models and create simple agents.\n",
    "    \n",
    "- Fetching and Displaying Book Information: Uses OpenLibrary API to process user queries and display book details.\n",
    "\n",
    "    "
   ]
  },
  {
   "cell_type": "code",
   "execution_count": null,
   "id": "3fac3b30-41c0-4c40-bf58-1ed9c3baf7c3",
   "metadata": {},
   "outputs": [],
   "source": []
  }
 ],
 "metadata": {
  "kernelspec": {
   "display_name": "Python 3 (ipykernel)",
   "language": "python",
   "name": "python3"
  },
  "language_info": {
   "codemirror_mode": {
    "name": "ipython",
    "version": 3
   },
   "file_extension": ".py",
   "mimetype": "text/x-python",
   "name": "python",
   "nbconvert_exporter": "python",
   "pygments_lexer": "ipython3",
   "version": "3.11.7"
  }
 },
 "nbformat": 4,
 "nbformat_minor": 5
}
